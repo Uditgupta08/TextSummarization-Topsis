{
 "cells": [
  {
   "cell_type": "code",
   "execution_count": 3,
   "metadata": {
    "id": "zmb06WpxAhOn"
   },
   "outputs": [],
   "source": [
    "import numpy as np\n",
    "import pandas as pd\n",
    "import nltk\n",
    "from transformers import pipeline\n",
    "from datasets import load_dataset"
   ]
  },
  {
   "cell_type": "code",
   "execution_count": 4,
   "metadata": {
    "id": "cx2dOGVUAkLo"
   },
   "outputs": [
    {
     "data": {
      "application/vnd.jupyter.widget-view+json": {
       "model_id": "bf5b32b8addc426b9335ef002448c151",
       "version_major": 2,
       "version_minor": 0
      },
      "text/plain": [
       "README.md:   0%|          | 0.00/15.6k [00:00<?, ?B/s]"
      ]
     },
     "metadata": {},
     "output_type": "display_data"
    },
    {
     "name": "stderr",
     "output_type": "stream",
     "text": [
      "C:\\Users\\Asus\\anaconda3\\Lib\\site-packages\\huggingface_hub\\file_download.py:140: UserWarning: `huggingface_hub` cache-system uses symlinks by default to efficiently store duplicated files but your machine does not support them in C:\\Users\\Asus\\.cache\\huggingface\\hub\\datasets--cnn_dailymail. Caching files will still work but in a degraded version that might require more space on your disk. This warning can be disabled by setting the `HF_HUB_DISABLE_SYMLINKS_WARNING` environment variable. For more details, see https://huggingface.co/docs/huggingface_hub/how-to-cache#limitations.\n",
      "To support symlinks on Windows, you either need to activate Developer Mode or to run Python as an administrator. In order to activate developer mode, see this article: https://docs.microsoft.com/en-us/windows/apps/get-started/enable-your-device-for-development\n",
      "  warnings.warn(message)\n"
     ]
    },
    {
     "data": {
      "application/vnd.jupyter.widget-view+json": {
       "model_id": "1397d80b498548b3bbfac92dfed4d932",
       "version_major": 2,
       "version_minor": 0
      },
      "text/plain": [
       "train-00000-of-00003.parquet:   0%|          | 0.00/257M [00:00<?, ?B/s]"
      ]
     },
     "metadata": {},
     "output_type": "display_data"
    },
    {
     "data": {
      "application/vnd.jupyter.widget-view+json": {
       "model_id": "e4f8eac7128645d2bdc31ed22600dc14",
       "version_major": 2,
       "version_minor": 0
      },
      "text/plain": [
       "train-00001-of-00003.parquet:   0%|          | 0.00/257M [00:00<?, ?B/s]"
      ]
     },
     "metadata": {},
     "output_type": "display_data"
    },
    {
     "data": {
      "application/vnd.jupyter.widget-view+json": {
       "model_id": "2fac7595ac174a84b7b87632a75e1a8c",
       "version_major": 2,
       "version_minor": 0
      },
      "text/plain": [
       "train-00002-of-00003.parquet:   0%|          | 0.00/259M [00:00<?, ?B/s]"
      ]
     },
     "metadata": {},
     "output_type": "display_data"
    },
    {
     "data": {
      "application/vnd.jupyter.widget-view+json": {
       "model_id": "1956aae9a752413b9ae53944502c53b8",
       "version_major": 2,
       "version_minor": 0
      },
      "text/plain": [
       "validation-00000-of-00001.parquet:   0%|          | 0.00/34.7M [00:00<?, ?B/s]"
      ]
     },
     "metadata": {},
     "output_type": "display_data"
    },
    {
     "data": {
      "application/vnd.jupyter.widget-view+json": {
       "model_id": "3398a2bf200046a29c1dfa5e5d65da86",
       "version_major": 2,
       "version_minor": 0
      },
      "text/plain": [
       "test-00000-of-00001.parquet:   0%|          | 0.00/30.0M [00:00<?, ?B/s]"
      ]
     },
     "metadata": {},
     "output_type": "display_data"
    },
    {
     "data": {
      "application/vnd.jupyter.widget-view+json": {
       "model_id": "e18af56a697a41a78ceed0f9d02e03f7",
       "version_major": 2,
       "version_minor": 0
      },
      "text/plain": [
       "Generating train split:   0%|          | 0/287113 [00:00<?, ? examples/s]"
      ]
     },
     "metadata": {},
     "output_type": "display_data"
    },
    {
     "data": {
      "application/vnd.jupyter.widget-view+json": {
       "model_id": "7be4d34fcfc44942b27a882285427a45",
       "version_major": 2,
       "version_minor": 0
      },
      "text/plain": [
       "Generating validation split:   0%|          | 0/13368 [00:00<?, ? examples/s]"
      ]
     },
     "metadata": {},
     "output_type": "display_data"
    },
    {
     "data": {
      "application/vnd.jupyter.widget-view+json": {
       "model_id": "7a20a60f0fd4488da3876f56ce9e9f2a",
       "version_major": 2,
       "version_minor": 0
      },
      "text/plain": [
       "Generating test split:   0%|          | 0/11490 [00:00<?, ? examples/s]"
      ]
     },
     "metadata": {},
     "output_type": "display_data"
    }
   ],
   "source": [
    "# Load a Dataset from Hugging Face\n",
    "dataset = load_dataset(\"cnn_dailymail\", \"3.0.0\", split=\"test[:1000]\")\n",
    "\n",
    "# Define Pre-Trained Summarization Models\n",
    "summarization_models = {\n",
    "    \"M1\": \"facebook/bart-large-cnn\",\n",
    "    \"M2\":  \"t5-small\",\n",
    "    \"M3\": \"Falconsai/text_summarization\",\n",
    "    \"M4\": \"sshleifer/distilbart-cnn-12-6\"\n",
    "}"
   ]
  },
  {
   "cell_type": "code",
   "execution_count": 5,
   "metadata": {
    "id": "UilHNaVnBbJF"
   },
   "outputs": [],
   "source": [
    "# Function to Summarize Text\n",
    "def summarize_text(model_name, text):\n",
    "    summarizer = pipeline(\"summarization\", model=summarization_models[model_name])\n",
    "    summary = summarizer(text, max_length=150, min_length=50, do_sample=False, truncation=True)\n",
    "    return summary[0][\"summary_text\"]"
   ]
  },
  {
   "cell_type": "code",
   "execution_count": 6,
   "metadata": {
    "colab": {
     "base_uri": "https://localhost:8080/"
    },
    "id": "CqRdkVEPCH1R",
    "outputId": "f3c33d69-7414-4266-b38c-d2e583300641"
   },
   "outputs": [
    {
     "name": "stdout",
     "output_type": "stream",
     "text": [
      "Collecting rouge\n",
      "  Downloading rouge-1.0.1-py3-none-any.whl.metadata (4.1 kB)\n",
      "Requirement already satisfied: six in c:\\users\\asus\\anaconda3\\lib\\site-packages (from rouge) (1.16.0)\n",
      "Downloading rouge-1.0.1-py3-none-any.whl (13 kB)\n",
      "Installing collected packages: rouge\n",
      "Successfully installed rouge-1.0.1\n"
     ]
    }
   ],
   "source": [
    "!pip install rouge"
   ]
  },
  {
   "cell_type": "code",
   "execution_count": 7,
   "metadata": {
    "id": "3qWv8dDyBv4L"
   },
   "outputs": [],
   "source": [
    "from rouge import Rouge\n",
    "rouge = Rouge()\n",
    "# Function to Evaluate Summary\n",
    "def evaluate_summary(original_text, summary_text):\n",
    "    result = rouge.get_scores(hyps=[summary_text], refs=[original_text])[0]\n",
    "    return {\n",
    "        \"P1\": result[\"rouge-1\"][\"f\"],  # ROUGE-1\n",
    "        \"P2\": result[\"rouge-2\"][\"f\"],  # ROUGE-2\n",
    "        \"P3\": result[\"rouge-l\"][\"f\"],  # ROUGE-L\n",
    "        \"P4\": len(summary_text) / len(original_text)  # Compression Ratio\n",
    "    }"
   ]
  },
  {
   "cell_type": "code",
   "execution_count": 8,
   "metadata": {
    "id": "uGAlgNW6Cs0E"
   },
   "outputs": [],
   "source": [
    "def apply_topsis(models, data):\n",
    "    data = np.array(data)  # Convert list of lists to NumPy array\n",
    "    weights = np.array([0.4, 0.3, 0.2, 0.1])  # Importance of each criterion\n",
    "    impacts = np.array([\"+\", \"+\", \"+\", \"-\"])  # Higher is better for ROUGE; lower for Compression\n",
    "\n",
    "    # Normalize the decision matrix\n",
    "    norm_data = data / np.sqrt((data ** 2).sum(axis=0))\n",
    "\n",
    "    # Calculate weighted normalized decision matrix\n",
    "    weighted_data = norm_data * weights\n",
    "\n",
    "    # Identify ideal best and worst solutions\n",
    "    ideal_best = np.where(impacts == \"+\", weighted_data.max(axis=0), weighted_data.min(axis=0))\n",
    "    ideal_worst = np.where(impacts == \"+\", weighted_data.min(axis=0), weighted_data.max(axis=0))\n",
    "    # Calculate distances from ideal best and worst\n",
    "    distance_best = np.sqrt(((weighted_data - ideal_best) ** 2).sum(axis=1))\n",
    "    distance_worst = np.sqrt(((weighted_data - ideal_worst) ** 2).sum(axis=1))\n",
    "\n",
    "    # Calculate TOPSIS scores\n",
    "    topsis_scores = distance_worst / (distance_best + distance_worst)\n",
    "\n",
    "    # Rank the models\n",
    "    ranks = topsis_scores.argsort()[::-1] + 1  # Higher score = better rank\n",
    "\n",
    "    return topsis_scores, ranks\n"
   ]
  },
  {
   "cell_type": "code",
   "execution_count": 9,
   "metadata": {
    "colab": {
     "base_uri": "https://localhost:8080/"
    },
    "id": "whAOmRswDduS",
    "outputId": "0029feb3-c59b-4768-a6a7-1a0088dc054c"
   },
   "outputs": [
    {
     "name": "stdout",
     "output_type": "stream",
     "text": [
      "WARNING:tensorflow:From C:\\Users\\Asus\\anaconda3\\Lib\\site-packages\\tf_keras\\src\\losses.py:2976: The name tf.losses.sparse_softmax_cross_entropy is deprecated. Please use tf.compat.v1.losses.sparse_softmax_cross_entropy instead.\n",
      "\n"
     ]
    },
    {
     "data": {
      "application/vnd.jupyter.widget-view+json": {
       "model_id": "687cfc6a01234d588bd5165c1bcfcaf0",
       "version_major": 2,
       "version_minor": 0
      },
      "text/plain": [
       "generation_config.json:   0%|          | 0.00/363 [00:00<?, ?B/s]"
      ]
     },
     "metadata": {},
     "output_type": "display_data"
    },
    {
     "name": "stderr",
     "output_type": "stream",
     "text": [
      "C:\\Users\\Asus\\anaconda3\\Lib\\site-packages\\huggingface_hub\\file_download.py:140: UserWarning: `huggingface_hub` cache-system uses symlinks by default to efficiently store duplicated files but your machine does not support them in C:\\Users\\Asus\\.cache\\huggingface\\hub\\models--facebook--bart-large-cnn. Caching files will still work but in a degraded version that might require more space on your disk. This warning can be disabled by setting the `HF_HUB_DISABLE_SYMLINKS_WARNING` environment variable. For more details, see https://huggingface.co/docs/huggingface_hub/how-to-cache#limitations.\n",
      "To support symlinks on Windows, you either need to activate Developer Mode or to run Python as an administrator. In order to activate developer mode, see this article: https://docs.microsoft.com/en-us/windows/apps/get-started/enable-your-device-for-development\n",
      "  warnings.warn(message)\n",
      "Device set to use cpu\n",
      "Asking to truncate to max_length but no maximum length is provided and the model has no predefined maximum length. Default to no truncation.\n"
     ]
    },
    {
     "data": {
      "application/vnd.jupyter.widget-view+json": {
       "model_id": "80d9bfbba4f04a7cb858662953a5010c",
       "version_major": 2,
       "version_minor": 0
      },
      "text/plain": [
       "config.json:   0%|          | 0.00/1.21k [00:00<?, ?B/s]"
      ]
     },
     "metadata": {},
     "output_type": "display_data"
    },
    {
     "name": "stderr",
     "output_type": "stream",
     "text": [
      "C:\\Users\\Asus\\anaconda3\\Lib\\site-packages\\huggingface_hub\\file_download.py:140: UserWarning: `huggingface_hub` cache-system uses symlinks by default to efficiently store duplicated files but your machine does not support them in C:\\Users\\Asus\\.cache\\huggingface\\hub\\models--t5-small. Caching files will still work but in a degraded version that might require more space on your disk. This warning can be disabled by setting the `HF_HUB_DISABLE_SYMLINKS_WARNING` environment variable. For more details, see https://huggingface.co/docs/huggingface_hub/how-to-cache#limitations.\n",
      "To support symlinks on Windows, you either need to activate Developer Mode or to run Python as an administrator. In order to activate developer mode, see this article: https://docs.microsoft.com/en-us/windows/apps/get-started/enable-your-device-for-development\n",
      "  warnings.warn(message)\n"
     ]
    },
    {
     "data": {
      "application/vnd.jupyter.widget-view+json": {
       "model_id": "0dc7836a0a3346af8bf79e4f1daeaef4",
       "version_major": 2,
       "version_minor": 0
      },
      "text/plain": [
       "model.safetensors:   0%|          | 0.00/242M [00:00<?, ?B/s]"
      ]
     },
     "metadata": {},
     "output_type": "display_data"
    },
    {
     "data": {
      "application/vnd.jupyter.widget-view+json": {
       "model_id": "8c7d3f82fddb46218050d02d63af89fe",
       "version_major": 2,
       "version_minor": 0
      },
      "text/plain": [
       "generation_config.json:   0%|          | 0.00/147 [00:00<?, ?B/s]"
      ]
     },
     "metadata": {},
     "output_type": "display_data"
    },
    {
     "data": {
      "application/vnd.jupyter.widget-view+json": {
       "model_id": "95c162f914d849ae9de569bffd46d8dc",
       "version_major": 2,
       "version_minor": 0
      },
      "text/plain": [
       "tokenizer_config.json:   0%|          | 0.00/2.32k [00:00<?, ?B/s]"
      ]
     },
     "metadata": {},
     "output_type": "display_data"
    },
    {
     "data": {
      "application/vnd.jupyter.widget-view+json": {
       "model_id": "91e0db3f0b464b1dab8af5e66c8fd558",
       "version_major": 2,
       "version_minor": 0
      },
      "text/plain": [
       "spiece.model:   0%|          | 0.00/792k [00:00<?, ?B/s]"
      ]
     },
     "metadata": {},
     "output_type": "display_data"
    },
    {
     "data": {
      "application/vnd.jupyter.widget-view+json": {
       "model_id": "430e448a2bf64d6a9367f2a663ec4939",
       "version_major": 2,
       "version_minor": 0
      },
      "text/plain": [
       "tokenizer.json:   0%|          | 0.00/1.39M [00:00<?, ?B/s]"
      ]
     },
     "metadata": {},
     "output_type": "display_data"
    },
    {
     "name": "stderr",
     "output_type": "stream",
     "text": [
      "Device set to use cpu\n"
     ]
    },
    {
     "data": {
      "application/vnd.jupyter.widget-view+json": {
       "model_id": "bb8f50148ba7431284e0b88e09163bdc",
       "version_major": 2,
       "version_minor": 0
      },
      "text/plain": [
       "config.json:   0%|          | 0.00/1.49k [00:00<?, ?B/s]"
      ]
     },
     "metadata": {},
     "output_type": "display_data"
    },
    {
     "name": "stderr",
     "output_type": "stream",
     "text": [
      "C:\\Users\\Asus\\anaconda3\\Lib\\site-packages\\huggingface_hub\\file_download.py:140: UserWarning: `huggingface_hub` cache-system uses symlinks by default to efficiently store duplicated files but your machine does not support them in C:\\Users\\Asus\\.cache\\huggingface\\hub\\models--Falconsai--text_summarization. Caching files will still work but in a degraded version that might require more space on your disk. This warning can be disabled by setting the `HF_HUB_DISABLE_SYMLINKS_WARNING` environment variable. For more details, see https://huggingface.co/docs/huggingface_hub/how-to-cache#limitations.\n",
      "To support symlinks on Windows, you either need to activate Developer Mode or to run Python as an administrator. In order to activate developer mode, see this article: https://docs.microsoft.com/en-us/windows/apps/get-started/enable-your-device-for-development\n",
      "  warnings.warn(message)\n"
     ]
    },
    {
     "data": {
      "application/vnd.jupyter.widget-view+json": {
       "model_id": "8575330b26f342829da22d1cdd955c4d",
       "version_major": 2,
       "version_minor": 0
      },
      "text/plain": [
       "model.safetensors:   0%|          | 0.00/242M [00:00<?, ?B/s]"
      ]
     },
     "metadata": {},
     "output_type": "display_data"
    },
    {
     "data": {
      "application/vnd.jupyter.widget-view+json": {
       "model_id": "9005be8f99ad445192a756b42d8d84bd",
       "version_major": 2,
       "version_minor": 0
      },
      "text/plain": [
       "generation_config.json:   0%|          | 0.00/112 [00:00<?, ?B/s]"
      ]
     },
     "metadata": {},
     "output_type": "display_data"
    },
    {
     "data": {
      "application/vnd.jupyter.widget-view+json": {
       "model_id": "ce09b7c06e6f4725978ffc1e3934c8ff",
       "version_major": 2,
       "version_minor": 0
      },
      "text/plain": [
       "tokenizer_config.json:   0%|          | 0.00/2.32k [00:00<?, ?B/s]"
      ]
     },
     "metadata": {},
     "output_type": "display_data"
    },
    {
     "data": {
      "application/vnd.jupyter.widget-view+json": {
       "model_id": "a1be707c1a7e49f59d601196d9ca7d2f",
       "version_major": 2,
       "version_minor": 0
      },
      "text/plain": [
       "spiece.model:   0%|          | 0.00/792k [00:00<?, ?B/s]"
      ]
     },
     "metadata": {},
     "output_type": "display_data"
    },
    {
     "data": {
      "application/vnd.jupyter.widget-view+json": {
       "model_id": "1e22514803ae444fa4b8bfb626b1a665",
       "version_major": 2,
       "version_minor": 0
      },
      "text/plain": [
       "tokenizer.json:   0%|          | 0.00/2.42M [00:00<?, ?B/s]"
      ]
     },
     "metadata": {},
     "output_type": "display_data"
    },
    {
     "data": {
      "application/vnd.jupyter.widget-view+json": {
       "model_id": "738a8562c2bf46febe27d9d6b8e98b75",
       "version_major": 2,
       "version_minor": 0
      },
      "text/plain": [
       "special_tokens_map.json:   0%|          | 0.00/2.20k [00:00<?, ?B/s]"
      ]
     },
     "metadata": {},
     "output_type": "display_data"
    },
    {
     "name": "stderr",
     "output_type": "stream",
     "text": [
      "Device set to use cpu\n"
     ]
    },
    {
     "data": {
      "application/vnd.jupyter.widget-view+json": {
       "model_id": "e88eb50acb8a42288fb908de6ed3f572",
       "version_major": 2,
       "version_minor": 0
      },
      "text/plain": [
       "config.json:   0%|          | 0.00/1.80k [00:00<?, ?B/s]"
      ]
     },
     "metadata": {},
     "output_type": "display_data"
    },
    {
     "name": "stderr",
     "output_type": "stream",
     "text": [
      "C:\\Users\\Asus\\anaconda3\\Lib\\site-packages\\huggingface_hub\\file_download.py:140: UserWarning: `huggingface_hub` cache-system uses symlinks by default to efficiently store duplicated files but your machine does not support them in C:\\Users\\Asus\\.cache\\huggingface\\hub\\models--sshleifer--distilbart-cnn-12-6. Caching files will still work but in a degraded version that might require more space on your disk. This warning can be disabled by setting the `HF_HUB_DISABLE_SYMLINKS_WARNING` environment variable. For more details, see https://huggingface.co/docs/huggingface_hub/how-to-cache#limitations.\n",
      "To support symlinks on Windows, you either need to activate Developer Mode or to run Python as an administrator. In order to activate developer mode, see this article: https://docs.microsoft.com/en-us/windows/apps/get-started/enable-your-device-for-development\n",
      "  warnings.warn(message)\n"
     ]
    },
    {
     "data": {
      "application/vnd.jupyter.widget-view+json": {
       "model_id": "eeb602a6767f4081893ed7c68358a673",
       "version_major": 2,
       "version_minor": 0
      },
      "text/plain": [
       "pytorch_model.bin:   0%|          | 0.00/1.22G [00:00<?, ?B/s]"
      ]
     },
     "metadata": {},
     "output_type": "display_data"
    },
    {
     "data": {
      "application/vnd.jupyter.widget-view+json": {
       "model_id": "cdb234d01cda40b5bb6b69101364d50b",
       "version_major": 2,
       "version_minor": 0
      },
      "text/plain": [
       "tokenizer_config.json:   0%|          | 0.00/26.0 [00:00<?, ?B/s]"
      ]
     },
     "metadata": {},
     "output_type": "display_data"
    },
    {
     "data": {
      "application/vnd.jupyter.widget-view+json": {
       "model_id": "f5bc4eb03e7f4ca6b9bda8d816e45888",
       "version_major": 2,
       "version_minor": 0
      },
      "text/plain": [
       "model.safetensors:   0%|          | 0.00/1.22G [00:00<?, ?B/s]"
      ]
     },
     "metadata": {},
     "output_type": "display_data"
    },
    {
     "data": {
      "application/vnd.jupyter.widget-view+json": {
       "model_id": "f3f87b4e10fa41ce922dd809ca1fb270",
       "version_major": 2,
       "version_minor": 0
      },
      "text/plain": [
       "vocab.json:   0%|          | 0.00/899k [00:00<?, ?B/s]"
      ]
     },
     "metadata": {},
     "output_type": "display_data"
    },
    {
     "data": {
      "application/vnd.jupyter.widget-view+json": {
       "model_id": "58c18548d31146c5a9cb15de69c66e9f",
       "version_major": 2,
       "version_minor": 0
      },
      "text/plain": [
       "merges.txt:   0%|          | 0.00/456k [00:00<?, ?B/s]"
      ]
     },
     "metadata": {},
     "output_type": "display_data"
    },
    {
     "name": "stderr",
     "output_type": "stream",
     "text": [
      "Device set to use cpu\n",
      "Device set to use cpu\n",
      "Asking to truncate to max_length but no maximum length is provided and the model has no predefined maximum length. Default to no truncation.\n",
      "Device set to use cpu\n",
      "Device set to use cpu\n",
      "Device set to use cpu\n",
      "Device set to use cpu\n",
      "Asking to truncate to max_length but no maximum length is provided and the model has no predefined maximum length. Default to no truncation.\n",
      "Device set to use cpu\n",
      "Device set to use cpu\n",
      "Device set to use cpu\n",
      "Device set to use cpu\n",
      "Asking to truncate to max_length but no maximum length is provided and the model has no predefined maximum length. Default to no truncation.\n",
      "Device set to use cpu\n",
      "Device set to use cpu\n",
      "Device set to use cpu\n",
      "Device set to use cpu\n",
      "Asking to truncate to max_length but no maximum length is provided and the model has no predefined maximum length. Default to no truncation.\n",
      "Device set to use cpu\n",
      "Device set to use cpu\n",
      "Device set to use cpu\n"
     ]
    },
    {
     "name": "stdout",
     "output_type": "stream",
     "text": [
      "   Text Model        P1        P2        P3        P4  Topsis Score  Rank\n",
      "0    T1    M1  0.416667  0.289157  0.416667  1.476395      0.777348     4\n",
      "1    T1    M2  0.281250  0.189189  0.281250  1.330472      0.161072     1\n",
      "2    T1    M3  0.260870  0.151899  0.260870  1.296137      0.039464     2\n",
      "3    T1    M4  0.468750  0.315789  0.468750  1.334764      0.991277     3\n",
      "4    T2    M1  0.375000  0.253165  0.375000  1.028037      0.951519     1\n",
      "5    T2    M2  0.317460  0.055556  0.317460  0.789720      0.135911     4\n",
      "6    T2    M3  0.301370  0.046512  0.273973  1.158879      0.038396     2\n",
      "7    T2    M4  0.368421  0.147368  0.315789  1.345794      0.496903     3\n",
      "8    T3    M1  0.338028  0.150000  0.338028  1.311927      0.979291     4\n",
      "9    T3    M2  0.084507  0.026667  0.084507  1.220183      0.013459     1\n",
      "10   T3    M3  0.208955  0.084507  0.208955  1.169725      0.483237     3\n",
      "11   T3    M4  0.338028  0.150000  0.338028  1.307339      0.979946     2\n",
      "12   T4    M1  0.305556  0.121951  0.277778  0.952756      0.282965     2\n",
      "13   T4    M2  0.361111  0.120482  0.305556  0.992126      0.943369     3\n",
      "14   T4    M3  0.342105  0.116279  0.289474  1.090551      0.655903     1\n",
      "15   T4    M4  0.293333  0.114943  0.266667  1.066929      0.024963     4\n",
      "16   T5    M1  0.526316  0.266667  0.526316  1.100000      0.928653     1\n",
      "17   T5    M2  0.514286  0.227848  0.485714  0.896154      0.826792     2\n",
      "18   T5    M3  0.323529  0.102564  0.323529  0.807692      0.166011     4\n",
      "19   T5    M4  0.410256  0.067416  0.333333  1.153846      0.179781     3\n"
     ]
    }
   ],
   "source": [
    "results = []\n",
    "\n",
    "# Process 5 random texts\n",
    "for i in range(5):\n",
    "    sample = dataset[i]\n",
    "    text = sample[\"article\"]\n",
    "    reference_summary = sample[\"highlights\"]\n",
    "    evaluation_data = []\n",
    "    model_names = []\n",
    "\n",
    "    for model in summarization_models.keys():\n",
    "        summary = summarize_text(model, text)\n",
    "        metrics = evaluate_summary(reference_summary, summary)\n",
    "        evaluation_data.append(list(metrics.values()))\n",
    "        model_names.append(model)\n",
    "\n",
    "    topsis_scores,ranks = apply_topsis(model_names, evaluation_data)\n",
    "\n",
    "    for j, model in enumerate(model_names):\n",
    "        results.append([f\"T{i+1}\", model, *evaluation_data[j], topsis_scores[j], ranks[j]])\n",
    "\n",
    "# Convert results to DataFrame\n",
    "df_results = pd.DataFrame(results, columns=[\"Text\", \"Model\", \"P1\", \"P2\", \"P3\", \"P4\", \"Topsis Score\", \"Rank\"])\n",
    "\n",
    "# Print results\n",
    "print(df_results)"
   ]
  },
  {
   "cell_type": "code",
   "execution_count": 10,
   "metadata": {
    "id": "XRG65QYcnMzi"
   },
   "outputs": [],
   "source": [
    "df_results.to_csv(\"summarization_results.csv\", index=False)"
   ]
  },
  {
   "cell_type": "code",
   "execution_count": 32,
   "metadata": {
    "colab": {
     "base_uri": "https://localhost:8080/",
     "height": 362
    },
    "id": "eQGYyLhungoN",
    "outputId": "fb4062d5-0664-4bb5-abd1-31141abb6085"
   },
   "outputs": [
    {
     "name": "stdout",
     "output_type": "stream",
     "text": [
      "Overall Best Model: M2 - t5-small\n"
     ]
    },
    {
     "data": {
      "image/png": "[encoded data removed]",
      "text/plain": [
       "<Figure size 2000x500 with 5 Axes>"
      ]
     },
     "metadata": {},
     "output_type": "display_data"
    }
   ],
   "source": [
    "import matplotlib.pyplot as plt\n",
    "import seaborn as sns\n",
    "import pandas as pd\n",
    "\n",
    "sns.set(style=\"whitegrid\")\n",
    "fig, axes = plt.subplots(1, 5, figsize=(20, 5), sharey=True)\n",
    "\n",
    "texts = df_results[\"Text\"].unique()\n",
    "\n",
    "for i, text in enumerate(texts):\n",
    "    ax = axes[i]\n",
    "    df_subset = df_results[df_results[\"Text\"] == text]\n",
    "    \n",
    "    sns.barplot(x=\"Model\", y=\"Topsis Score\", data=df_subset, palette=\"viridis\", ax=ax, hue=\"Rank\", dodge=False)\n",
    "    ax.set_title(f\"TOPSIS Ranking for {text}\")\n",
    "    ax.set_xlabel(\"Model\")\n",
    "    ax.set_ylabel(\"TOPSIS Score\" if i == 0 else \"\")\n",
    "    ax.legend(title=\"Rank\")\n",
    "\n",
    "# Find the overall best model\n",
    "rank1_counts = df_results[df_results[\"Rank\"] == 1][\"Model\"].value_counts()\n",
    "best_model_id = rank1_counts.idxmax()  # Model identifier (e.g., \"M1\")\n",
    "\n",
    "# Dictionary mapping model IDs to full model names\n",
    "summarization_models = {\n",
    "    \"M1\": \"facebook/bart-large-cnn\",\n",
    "    \"M2\": \"t5-small\",\n",
    "    \"M3\": \"Falconsai/text_summarization\",\n",
    "    \"M4\": \"sshleifer/distilbart-cnn-12-6\"\n",
    "}\n",
    "\n",
    "# Get the full model name\n",
    "best_model_name = summarization_models[best_model_id]\n",
    "\n",
    "# Print results\n",
    "print(f\"Overall Best Model: {best_model_id} - {best_model_name}\")\n",
    "\n",
    "# Show the plot\n",
    "plt.tight_layout()\n",
    "plt.show()"
   ]
  }
 ],
 "metadata": {
  "colab": {
   "authorship_tag": "ABX9TyNfKwfM9XHL7aEkSTYc86ap",
   "include_colab_link": true,
   "provenance": []
  },
  "kernelspec": {
   "display_name": "Python [conda env:base] *",
   "language": "python",
   "name": "conda-base-py"
  },
  "language_info": {
   "codemirror_mode": {
    "name": "ipython",
    "version": 3
   },
   "file_extension": ".py",
   "mimetype": "text/x-python",
   "name": "python",
   "nbconvert_exporter": "python",
   "pygments_lexer": "ipython3",
   "version": "3.12.7"
  }
 },
 "nbformat": 4,
 "nbformat_minor": 4
}
